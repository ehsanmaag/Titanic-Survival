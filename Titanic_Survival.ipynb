{
 "cells": [
  {
   "cell_type": "markdown",
   "metadata": {},
   "source": [
    "# 1. Initialization"
   ]
  },
  {
   "cell_type": "code",
   "execution_count": 5,
   "metadata": {},
   "outputs": [],
   "source": [
    "import pandas as pd\n",
    "import numpy as np\n",
    "import seaborn as sns\n",
    "import matplotlib.pyplot as plt\n",
    "\n",
    "sns.set()\n",
    "\n",
    "d_train = pd.read_csv('Data/train.csv')\n",
    "d_test = pd.read_csv('Data/test.csv')\n"
   ]
  },
  {
   "cell_type": "markdown",
   "metadata": {},
   "source": [
    "# 2. Exploring Data"
   ]
  },
  {
   "cell_type": "code",
   "execution_count": 57,
   "metadata": {},
   "outputs": [
    {
     "data": {
      "text/html": [
       "<div>\n",
       "<style>\n",
       "    .dataframe thead tr:only-child th {\n",
       "        text-align: right;\n",
       "    }\n",
       "\n",
       "    .dataframe thead th {\n",
       "        text-align: left;\n",
       "    }\n",
       "\n",
       "    .dataframe tbody tr th {\n",
       "        vertical-align: top;\n",
       "    }\n",
       "</style>\n",
       "<table border=\"1\" class=\"dataframe\">\n",
       "  <thead>\n",
       "    <tr style=\"text-align: right;\">\n",
       "      <th></th>\n",
       "      <th>PassengerId</th>\n",
       "      <th>Survived</th>\n",
       "      <th>Pclass</th>\n",
       "      <th>Name</th>\n",
       "      <th>Sex</th>\n",
       "      <th>Age</th>\n",
       "      <th>SibSp</th>\n",
       "      <th>Parch</th>\n",
       "      <th>Ticket</th>\n",
       "      <th>Fare</th>\n",
       "      <th>Cabin</th>\n",
       "      <th>Embarked</th>\n",
       "    </tr>\n",
       "  </thead>\n",
       "  <tbody>\n",
       "    <tr>\n",
       "      <th>0</th>\n",
       "      <td>1</td>\n",
       "      <td>0</td>\n",
       "      <td>3</td>\n",
       "      <td>Braund, Mr. Owen Harris</td>\n",
       "      <td>male</td>\n",
       "      <td>22.0</td>\n",
       "      <td>1</td>\n",
       "      <td>0</td>\n",
       "      <td>A/5 21171</td>\n",
       "      <td>7.2500</td>\n",
       "      <td>NaN</td>\n",
       "      <td>S</td>\n",
       "    </tr>\n",
       "    <tr>\n",
       "      <th>1</th>\n",
       "      <td>2</td>\n",
       "      <td>1</td>\n",
       "      <td>1</td>\n",
       "      <td>Cumings, Mrs. John Bradley (Florence Briggs Th...</td>\n",
       "      <td>female</td>\n",
       "      <td>38.0</td>\n",
       "      <td>1</td>\n",
       "      <td>0</td>\n",
       "      <td>PC 17599</td>\n",
       "      <td>71.2833</td>\n",
       "      <td>C85</td>\n",
       "      <td>C</td>\n",
       "    </tr>\n",
       "    <tr>\n",
       "      <th>2</th>\n",
       "      <td>3</td>\n",
       "      <td>1</td>\n",
       "      <td>3</td>\n",
       "      <td>Heikkinen, Miss. Laina</td>\n",
       "      <td>female</td>\n",
       "      <td>26.0</td>\n",
       "      <td>0</td>\n",
       "      <td>0</td>\n",
       "      <td>STON/O2. 3101282</td>\n",
       "      <td>7.9250</td>\n",
       "      <td>NaN</td>\n",
       "      <td>S</td>\n",
       "    </tr>\n",
       "    <tr>\n",
       "      <th>3</th>\n",
       "      <td>4</td>\n",
       "      <td>1</td>\n",
       "      <td>1</td>\n",
       "      <td>Futrelle, Mrs. Jacques Heath (Lily May Peel)</td>\n",
       "      <td>female</td>\n",
       "      <td>35.0</td>\n",
       "      <td>1</td>\n",
       "      <td>0</td>\n",
       "      <td>113803</td>\n",
       "      <td>53.1000</td>\n",
       "      <td>C123</td>\n",
       "      <td>S</td>\n",
       "    </tr>\n",
       "    <tr>\n",
       "      <th>4</th>\n",
       "      <td>5</td>\n",
       "      <td>0</td>\n",
       "      <td>3</td>\n",
       "      <td>Allen, Mr. William Henry</td>\n",
       "      <td>male</td>\n",
       "      <td>35.0</td>\n",
       "      <td>0</td>\n",
       "      <td>0</td>\n",
       "      <td>373450</td>\n",
       "      <td>8.0500</td>\n",
       "      <td>NaN</td>\n",
       "      <td>S</td>\n",
       "    </tr>\n",
       "  </tbody>\n",
       "</table>\n",
       "</div>"
      ],
      "text/plain": [
       "   PassengerId  Survived  Pclass  \\\n",
       "0            1         0       3   \n",
       "1            2         1       1   \n",
       "2            3         1       3   \n",
       "3            4         1       1   \n",
       "4            5         0       3   \n",
       "\n",
       "                                                Name     Sex   Age  SibSp  \\\n",
       "0                            Braund, Mr. Owen Harris    male  22.0      1   \n",
       "1  Cumings, Mrs. John Bradley (Florence Briggs Th...  female  38.0      1   \n",
       "2                             Heikkinen, Miss. Laina  female  26.0      0   \n",
       "3       Futrelle, Mrs. Jacques Heath (Lily May Peel)  female  35.0      1   \n",
       "4                           Allen, Mr. William Henry    male  35.0      0   \n",
       "\n",
       "   Parch            Ticket     Fare Cabin Embarked  \n",
       "0      0         A/5 21171   7.2500   NaN        S  \n",
       "1      0          PC 17599  71.2833   C85        C  \n",
       "2      0  STON/O2. 3101282   7.9250   NaN        S  \n",
       "3      0            113803  53.1000  C123        S  \n",
       "4      0            373450   8.0500   NaN        S  "
      ]
     },
     "execution_count": 57,
     "metadata": {},
     "output_type": "execute_result"
    }
   ],
   "source": [
    "d_train.head()\n",
    "\n",
    "# Pclass: A proxy for socio-economic status (SES)\n",
    "# 1st = Upper  2nd = Middle  3rd = Lower\n",
    "\n",
    "# Age: Age is fractional if less than 1. If the age is estimated, is it in the form of xx.5\n",
    "\n",
    "# SibSp: Number of siblings/spouses aboard. The dataset defines family relations in this way...\n",
    "# Sibling = brother, sister, stepbrother, stepsister. Spouse = husband, wife (mistresses and fiancés were ignored).\n",
    "\n",
    "# Parch: Number of parents/children aboard. The dataset defines family relations in this way...\n",
    "# Parent = mother, father. Child = daughter, son, stepdaughter, stepson. Some children travelled only with a nanny, therefore parch=0 for them.\n",
    "\n",
    "# Cabin: Cabin number\n",
    "\n",
    "# Embarked: Port of embarkation. C= Cherbourg, Q= Queenstown, S= Southampton.\n"
   ]
  },
  {
   "cell_type": "code",
   "execution_count": 58,
   "metadata": {},
   "outputs": [
    {
     "name": "stdout",
     "output_type": "stream",
     "text": [
      "<class 'pandas.core.frame.DataFrame'>\n",
      "RangeIndex: 418 entries, 0 to 417\n",
      "Data columns (total 11 columns):\n",
      "PassengerId    418 non-null int64\n",
      "Pclass         418 non-null int64\n",
      "Name           418 non-null object\n",
      "Sex            418 non-null object\n",
      "Age            332 non-null float64\n",
      "SibSp          418 non-null int64\n",
      "Parch          418 non-null int64\n",
      "Ticket         418 non-null object\n",
      "Fare           417 non-null float64\n",
      "Cabin          91 non-null object\n",
      "Embarked       418 non-null object\n",
      "dtypes: float64(2), int64(4), object(5)\n",
      "memory usage: 36.0+ KB\n"
     ]
    }
   ],
   "source": [
    "# d_train.describe()\n",
    "# d_train.shape # 891 rows\n",
    "# d_train.info()\n",
    "d_test.info()\n",
    "# d_train.isnull().sum()  # high null counts for Age and Cabin"
   ]
  },
  {
   "cell_type": "code",
   "execution_count": 6,
   "metadata": {},
   "outputs": [],
   "source": [
    "# d_train.PassengerId = d_train.PassengerId.astype('category')\n",
    "# d_train.Survived = d_train.Survived.astype('category')\n",
    "# d_train.Pclass = d_train.Pclass.astype('category')\n",
    "# d_train.Sex = d_train.Sex.astype('category')\n",
    "\n",
    "# d_test.PassengerId = d_test.PassengerId.astype('category')\n",
    "# d_test.Pclass = d_test.Pclass.astype('category')\n",
    "# d_test.Sex = d_test.Sex.astype('category')\n",
    "\n",
    "# Categorize Age\n",
    "age_bin = [0, 12, 17, 60, np.inf]  # Age group boundaries\n",
    "age_bin_lbl = [0, 1, 2, 3] #['child', 'teenager', 'adult', 'elder']  # Age group labels\n",
    "d_train['AgeGroup'] = pd.cut(d_train.Age, age_bin, labels=age_bin_lbl)\n",
    "d_test['AgeGroup'] = pd.cut(d_test.Age, age_bin, labels=age_bin_lbl)"
   ]
  },
  {
   "cell_type": "code",
   "execution_count": 7,
   "metadata": {},
   "outputs": [
    {
     "data": {
      "text/plain": [
       "<matplotlib.figure.Figure at 0x1384a16b128>"
      ]
     },
     "metadata": {},
     "output_type": "display_data"
    },
    {
     "data": {
      "image/png": "[encoded data removed]",
      "text/plain": [
       "<matplotlib.figure.Figure at 0x1384a16bac8>"
      ]
     },
     "metadata": {},
     "output_type": "display_data"
    }
   ],
   "source": [
    "plt.clf()\n",
    "\n",
    "d_subset = d_train.iloc[:, [1,2,6,7]]\n",
    "sns.pairplot(d_subset, hue='Survived', size=2.5);\n",
    "\n",
    "# sns.distplot(d_train.Age.dropna())\n",
    "\n",
    "# g = sns.FacetGrid(d_train, row='Survived', col='Sex')\n",
    "# g.map(sns.distplot, 'Age')\n",
    "\n",
    "# sns.jointplot(data=d_train, x='Age', y='Fare', kind='reg')\n",
    "\n",
    "# Survival heatmap based on age group and sex\n",
    "# pivt = d_train.pivot_table(index='AgeGroup', columns='Sex', values='Survived', aggfunc=np.sum)\n",
    "# sns.heatmap(pivt, annot=True, fmt='.1f')\n",
    "\n",
    "# Correlation heatmap\n",
    "# sns.heatmap(d_train.corr(), annot=True, fmt='.2f')\n",
    "\n",
    "def bar_chart(feature):\n",
    "    survived = d_train[d_train['Survived']==1][feature].value_counts()\n",
    "    dead = d_train[d_train['Survived']==0][feature].value_counts()\n",
    "    df = pd.DataFrame([survived,dead])\n",
    "    df.index = ['Survived', 'Dead']\n",
    "    df.plot(kind='bar', stacked=True,figsize=(10,5))\n",
    "\n",
    "# bar_chart('Sex')  \n",
    "    \n",
    "plt.show()\n"
   ]
  },
  {
   "cell_type": "markdown",
   "metadata": {},
   "source": [
    "# 3. Feature Engineering"
   ]
  },
  {
   "cell_type": "code",
   "execution_count": 8,
   "metadata": {},
   "outputs": [
    {
     "data": {
      "image/png": "[encoded data removed]",
      "text/plain": [
       "<matplotlib.figure.Figure at 0x1384a16b400>"
      ]
     },
     "metadata": {},
     "output_type": "display_data"
    }
   ],
   "source": [
    "# Replace Age missing value with median of the gender\n",
    "d_train['Age'].fillna(d_train.groupby('Sex')['Age'].transform('median'), inplace=True)\n",
    "d_test['Age'].fillna(d_test.groupby('Sex')['Age'].transform('median'), inplace=True)\n",
    "# Note: recalculate age groups after fillna\n",
    "\n",
    "sns.kdeplot(d_train[d_train['Survived']==0]['Age'], shade=True, label='Dead')\n",
    "sns.kdeplot(d_train[d_train['Survived']==1]['Age'], shade=True, label='Survived')\n",
    "plt.show()\n"
   ]
  },
  {
   "cell_type": "code",
   "execution_count": 9,
   "metadata": {},
   "outputs": [],
   "source": [
    "# Categorize Age\n",
    "age_bin = [0, 12, 17, 60, np.inf]  # Age group boundaries\n",
    "age_bin_lbl = [0, 1, 2, 3] #['child', 'teenager', 'adult', 'elder']  # Age group labels\n",
    "d_train['AgeGroup'] = pd.cut(d_train.Age, age_bin, labels=age_bin_lbl)\n",
    "d_test['AgeGroup'] = pd.cut(d_test.Age, age_bin, labels=age_bin_lbl)"
   ]
  },
  {
   "cell_type": "code",
   "execution_count": 10,
   "metadata": {},
   "outputs": [
    {
     "data": {
      "image/png": "[encoded data removed]",
      "text/plain": [
       "<matplotlib.figure.Figure at 0x1384cc1e470>"
      ]
     },
     "metadata": {},
     "output_type": "display_data"
    }
   ],
   "source": [
    "count_embarked_pcls1 = d_train[d_train['Pclass']==1]['Embarked'].value_counts()\n",
    "count_embarked_pcls2 = d_train[d_train['Pclass']==2]['Embarked'].value_counts()\n",
    "count_embarked_pcls3 = d_train[d_train['Pclass']==3]['Embarked'].value_counts()\n",
    "df = pd.DataFrame([count_embarked_pcls1,count_embarked_pcls2,count_embarked_pcls3])\n",
    "df.index = ['1st Class','2nd Class','3rd Class']\n",
    "df.plot(kind='bar', stacked=True, figsize=(10,5))\n",
    "plt.show()\n",
    "\n",
    "# Fill in na for Embarkation with the majority value S\n",
    "d_train['Embarked'].fillna('S', inplace=True)\n",
    "# d_train['Embarked'].fillna('S', inplace=True)"
   ]
  },
  {
   "cell_type": "code",
   "execution_count": 11,
   "metadata": {},
   "outputs": [],
   "source": [
    "# d_test[d_test['Fare'].isnull()].head()\n",
    "\n",
    "# Fill in na for Fare based on the mean of Pclass\n",
    "d_test['Fare'] =d_test.groupby('Pclass')['Fare'].transform(lambda x: x.fillna(x.mean()))"
   ]
  },
  {
   "cell_type": "code",
   "execution_count": 12,
   "metadata": {},
   "outputs": [
    {
     "data": {
      "image/png": "[encoded data removed]",
      "text/plain": [
       "<matplotlib.figure.Figure at 0x1384d2eb630>"
      ]
     },
     "metadata": {},
     "output_type": "display_data"
    }
   ],
   "source": [
    "# Combine sibling and parent/child/spouse/sibling in FamilySize\n",
    "d_train['FamilySize'] = d_train['SibSp'] + d_train['Parch'] + 1\n",
    "d_test['FamilySize'] = d_test['SibSp'] + d_test['Parch'] + 1\n",
    "\n",
    "sns.kdeplot(d_train[d_train['Survived']==0]['FamilySize'], shade=True, label='Dead')\n",
    "sns.kdeplot(d_train[d_train['Survived']==1]['FamilySize'], shade=True, label='Survived')\n",
    "plt.show()"
   ]
  },
  {
   "cell_type": "code",
   "execution_count": 16,
   "metadata": {},
   "outputs": [],
   "source": [
    "# Prepare X and Y\n",
    "\n",
    "df_train = d_train.copy()\n",
    "\n",
    "df_train = df_train.drop(['PassengerId','Name','SibSp','Parch','Ticket','Cabin', 'Age'], axis=1)\n",
    "map_sex = {'female':1,'male':0}\n",
    "df_train['Sex'] = df_train['Sex'].map(map_sex)\n",
    "\n",
    "#df_train['Embarked'].drop_duplicates()\n",
    "map_embark = {'C':0,'Q':1,'S':2}\n",
    "df_train['Embarked'] = df_train['Embarked'].map(map_embark)\n",
    "\n",
    "x_train = df_train.iloc[:,1:]\n",
    "y_train = df_train.iloc[:,0]\n",
    "\n",
    "# Split into test/train\n",
    "from sklearn.model_selection import train_test_split\n",
    "x_train, x_traintest, y_train, y_traintest = train_test_split(x_train, y_train, test_size=0.3, random_state=40)"
   ]
  },
  {
   "cell_type": "code",
   "execution_count": 20,
   "metadata": {},
   "outputs": [
    {
     "name": "stderr",
     "output_type": "stream",
     "text": [
      "E:\\Applications\\Anaconda\\lib\\site-packages\\sklearn\\utils\\validation.py:475: DataConversionWarning: Data with input dtype int64 was converted to float64 by the scale function.\n",
      "  warnings.warn(msg, DataConversionWarning)\n"
     ]
    }
   ],
   "source": [
    "# Perform feature standardization\n",
    "from sklearn import preprocessing\n",
    "\n",
    "x_train['Fare'] = preprocessing.scale(x_train['Fare'])\n",
    "x_train['FamilySize'] = preprocessing.scale(x_train['FamilySize'])\n",
    "x_traintest['Fare'] = preprocessing.scale(x_traintest['Fare'])\n",
    "x_traintest['FamilySize'] = preprocessing.scale(x_traintest['FamilySize'])\n",
    "# plt.hist(x_train['Fare'],10)\n",
    "# plt.show()\n",
    "\n",
    "x_train['Pclass'] = x_train['Pclass'].astype('category')\n",
    "x_train['Sex'] = x_train['Sex'].astype('category')\n",
    "x_train['Embarked'] = x_train['Embarked'].astype('category')\n",
    "x_train['AgeGroup'] = x_train['AgeGroup'].astype('category')\n",
    "x_traintest['Pclass'] = x_traintest['Pclass'].astype('category')\n",
    "x_traintest['Sex'] = x_traintest['Sex'].astype('category')\n",
    "x_traintest['Embarked'] = x_traintest['Embarked'].astype('category')\n",
    "x_traintest['AgeGroup'] = x_traintest['AgeGroup'].astype('category')\n",
    "\n",
    "d_test['PassengerId'] = d_test['PassengerId'].astype('category')\n",
    "d_test['Pclass'] = d_test['Pclass'].astype('category')\n",
    "d_test['Sex'] = d_test['Sex'].astype('category')\n",
    "\n"
   ]
  },
  {
   "cell_type": "markdown",
   "metadata": {},
   "source": [
    "# 4. Model Training"
   ]
  },
  {
   "cell_type": "code",
   "execution_count": 26,
   "metadata": {},
   "outputs": [
    {
     "data": {
      "text/plain": [
       "LogisticRegressionCV(Cs=10, class_weight=None, cv=10, dual=False,\n",
       "           fit_intercept=True, intercept_scaling=1.0, max_iter=1000,\n",
       "           multi_class='ovr', n_jobs=1, penalty='l2', random_state=None,\n",
       "           refit=True, scoring='roc_auc', solver='liblinear', tol=0.0001,\n",
       "           verbose=0)"
      ]
     },
     "execution_count": 26,
     "metadata": {},
     "output_type": "execute_result"
    }
   ],
   "source": [
    "from sklearn import linear_model\n",
    "\n",
    "# Train logistic regression model\n",
    "# model_lgreg = linear_model.LogisticRegressionCV(solver='liblinear',\n",
    "#                                                 cv = 10,\n",
    "#                                                 scoring='roc_auc',\n",
    "#                                                 max_iter = 1000)\n",
    "\n",
    "# model_lgreg.fit(x_train, y_train)\n",
    "\n",
    "# model_lgreg_predict = model_lgreg.predict(x_traintest)\n",
    "\n"
   ]
  },
  {
   "cell_type": "code",
   "execution_count": 27,
   "metadata": {},
   "outputs": [
    {
     "data": {
      "text/plain": [
       "{'Cs': 10,\n",
       " 'class_weight': None,\n",
       " 'cv': 10,\n",
       " 'dual': False,\n",
       " 'fit_intercept': True,\n",
       " 'intercept_scaling': 1.0,\n",
       " 'max_iter': 1000,\n",
       " 'multi_class': 'ovr',\n",
       " 'n_jobs': 1,\n",
       " 'penalty': 'l2',\n",
       " 'random_state': None,\n",
       " 'refit': True,\n",
       " 'scoring': 'roc_auc',\n",
       " 'solver': 'liblinear',\n",
       " 'tol': 0.0001,\n",
       " 'verbose': 0}"
      ]
     },
     "execution_count": 27,
     "metadata": {},
     "output_type": "execute_result"
    }
   ],
   "source": [
    "from sklearn import metrics\n",
    "\n",
    "# mean_squared_error\n",
    "\n",
    "model_lgreg.get_params()"
   ]
  },
  {
   "cell_type": "code",
   "execution_count": null,
   "metadata": {},
   "outputs": [],
   "source": [
    "from sklearn import linear_model\n",
    "\n",
    "# TODO plot learning curve for a few estimators and continue with the best one"
   ]
  },
  {
   "cell_type": "code",
   "execution_count": 51,
   "metadata": {},
   "outputs": [],
   "source": [
    "# Draw validation curve for log regression 1/lambda\n",
    "from sklearn.model_selection import validation_curve\n",
    "\n",
    "param_range = pd.Series(range(1, 15))\n",
    "\n",
    "train_scores, test_scores = validation_curve(linear_model.LogisticRegressionCV(), \n",
    "                                             x_train, y_train, \n",
    "                                             param_name=\"Cs\", \n",
    "                                             param_range=param_range, \n",
    "                                             cv=10, \n",
    "                                             scoring=\"roc_auc\", \n",
    "                                             n_jobs=1)\n",
    "\n",
    "fig, ax = plt.subplots()\n",
    "ax.plot(param_range, np.mean(train_scores, axis=1), color=\"darkorange\")\n",
    "ax.plot(param_range, np.mean(test_scores, axis=1), color=\"navy\")"
   ]
  }
 ],
 "metadata": {
  "kernelspec": {
   "display_name": "Python 3",
   "language": "python",
   "name": "python3"
  },
  "language_info": {
   "codemirror_mode": {
    "name": "ipython",
    "version": 3
   },
   "file_extension": ".py",
   "mimetype": "text/x-python",
   "name": "python",
   "nbconvert_exporter": "python",
   "pygments_lexer": "ipython3",
   "version": "3.6.4"
  }
 },
 "nbformat": 4,
 "nbformat_minor": 2
}
