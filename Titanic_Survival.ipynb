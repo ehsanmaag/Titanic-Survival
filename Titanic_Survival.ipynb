{
 "cells": [
  {
   "cell_type": "markdown",
   "metadata": {},
   "source": [
    "# 1. Initialization"
   ]
  },
  {
   "cell_type": "code",
   "execution_count": 47,
   "metadata": {},
   "outputs": [],
   "source": [
    "import pandas as pd\n",
    "import numpy as np\n",
    "import seaborn as sns\n",
    "import matplotlib.pyplot as plt\n",
    "\n",
    "sns.set()\n",
    "\n",
    "d_train = pd.read_csv('Data/train.csv')\n",
    "d_test = pd.read_csv('Data/test.csv')\n"
   ]
  },
  {
   "cell_type": "markdown",
   "metadata": {},
   "source": [
    "# 2. Exploring Data"
   ]
  },
  {
   "cell_type": "code",
   "execution_count": 2,
   "metadata": {},
   "outputs": [
    {
     "data": {
      "text/html": [
       "<div>\n",
       "<style scoped>\n",
       "    .dataframe tbody tr th:only-of-type {\n",
       "        vertical-align: middle;\n",
       "    }\n",
       "\n",
       "    .dataframe tbody tr th {\n",
       "        vertical-align: top;\n",
       "    }\n",
       "\n",
       "    .dataframe thead th {\n",
       "        text-align: right;\n",
       "    }\n",
       "</style>\n",
       "<table border=\"1\" class=\"dataframe\">\n",
       "  <thead>\n",
       "    <tr style=\"text-align: right;\">\n",
       "      <th></th>\n",
       "      <th>PassengerId</th>\n",
       "      <th>Survived</th>\n",
       "      <th>Pclass</th>\n",
       "      <th>Name</th>\n",
       "      <th>Sex</th>\n",
       "      <th>Age</th>\n",
       "      <th>SibSp</th>\n",
       "      <th>Parch</th>\n",
       "      <th>Ticket</th>\n",
       "      <th>Fare</th>\n",
       "      <th>Cabin</th>\n",
       "      <th>Embarked</th>\n",
       "    </tr>\n",
       "  </thead>\n",
       "  <tbody>\n",
       "    <tr>\n",
       "      <th>0</th>\n",
       "      <td>1</td>\n",
       "      <td>0</td>\n",
       "      <td>3</td>\n",
       "      <td>Braund, Mr. Owen Harris</td>\n",
       "      <td>male</td>\n",
       "      <td>22.0</td>\n",
       "      <td>1</td>\n",
       "      <td>0</td>\n",
       "      <td>A/5 21171</td>\n",
       "      <td>7.2500</td>\n",
       "      <td>NaN</td>\n",
       "      <td>S</td>\n",
       "    </tr>\n",
       "    <tr>\n",
       "      <th>1</th>\n",
       "      <td>2</td>\n",
       "      <td>1</td>\n",
       "      <td>1</td>\n",
       "      <td>Cumings, Mrs. John Bradley (Florence Briggs Th...</td>\n",
       "      <td>female</td>\n",
       "      <td>38.0</td>\n",
       "      <td>1</td>\n",
       "      <td>0</td>\n",
       "      <td>PC 17599</td>\n",
       "      <td>71.2833</td>\n",
       "      <td>C85</td>\n",
       "      <td>C</td>\n",
       "    </tr>\n",
       "    <tr>\n",
       "      <th>2</th>\n",
       "      <td>3</td>\n",
       "      <td>1</td>\n",
       "      <td>3</td>\n",
       "      <td>Heikkinen, Miss. Laina</td>\n",
       "      <td>female</td>\n",
       "      <td>26.0</td>\n",
       "      <td>0</td>\n",
       "      <td>0</td>\n",
       "      <td>STON/O2. 3101282</td>\n",
       "      <td>7.9250</td>\n",
       "      <td>NaN</td>\n",
       "      <td>S</td>\n",
       "    </tr>\n",
       "    <tr>\n",
       "      <th>3</th>\n",
       "      <td>4</td>\n",
       "      <td>1</td>\n",
       "      <td>1</td>\n",
       "      <td>Futrelle, Mrs. Jacques Heath (Lily May Peel)</td>\n",
       "      <td>female</td>\n",
       "      <td>35.0</td>\n",
       "      <td>1</td>\n",
       "      <td>0</td>\n",
       "      <td>113803</td>\n",
       "      <td>53.1000</td>\n",
       "      <td>C123</td>\n",
       "      <td>S</td>\n",
       "    </tr>\n",
       "    <tr>\n",
       "      <th>4</th>\n",
       "      <td>5</td>\n",
       "      <td>0</td>\n",
       "      <td>3</td>\n",
       "      <td>Allen, Mr. William Henry</td>\n",
       "      <td>male</td>\n",
       "      <td>35.0</td>\n",
       "      <td>0</td>\n",
       "      <td>0</td>\n",
       "      <td>373450</td>\n",
       "      <td>8.0500</td>\n",
       "      <td>NaN</td>\n",
       "      <td>S</td>\n",
       "    </tr>\n",
       "  </tbody>\n",
       "</table>\n",
       "</div>"
      ],
      "text/plain": [
       "   PassengerId  Survived  Pclass  \\\n",
       "0            1         0       3   \n",
       "1            2         1       1   \n",
       "2            3         1       3   \n",
       "3            4         1       1   \n",
       "4            5         0       3   \n",
       "\n",
       "                                                Name     Sex   Age  SibSp  \\\n",
       "0                            Braund, Mr. Owen Harris    male  22.0      1   \n",
       "1  Cumings, Mrs. John Bradley (Florence Briggs Th...  female  38.0      1   \n",
       "2                             Heikkinen, Miss. Laina  female  26.0      0   \n",
       "3       Futrelle, Mrs. Jacques Heath (Lily May Peel)  female  35.0      1   \n",
       "4                           Allen, Mr. William Henry    male  35.0      0   \n",
       "\n",
       "   Parch            Ticket     Fare Cabin Embarked  \n",
       "0      0         A/5 21171   7.2500   NaN        S  \n",
       "1      0          PC 17599  71.2833   C85        C  \n",
       "2      0  STON/O2. 3101282   7.9250   NaN        S  \n",
       "3      0            113803  53.1000  C123        S  \n",
       "4      0            373450   8.0500   NaN        S  "
      ]
     },
     "execution_count": 2,
     "metadata": {},
     "output_type": "execute_result"
    }
   ],
   "source": [
    "d_train.head()\n",
    "\n",
    "# Pclass: A proxy for socio-economic status (SES)\n",
    "# 1st = Upper  2nd = Middle  3rd = Lower\n",
    "\n",
    "# Age: Age is fractional if less than 1. If the age is estimated, is it in the form of xx.5\n",
    "\n",
    "# SibSp: Number of siblings/spouses aboard. The dataset defines family relations in this way...\n",
    "# Sibling = brother, sister, stepbrother, stepsister. Spouse = husband, wife (mistresses and fiancés were ignored).\n",
    "\n",
    "# Parch: Number of parents/children aboard. The dataset defines family relations in this way...\n",
    "# Parent = mother, father. Child = daughter, son, stepdaughter, stepson. Some children travelled only with a nanny, therefore parch=0 for them.\n",
    "\n",
    "# Cabin: Cabin number\n",
    "\n",
    "# Embarked: Port of embarkation. C= Cherbourg, Q= Queenstown, S= Southampton.\n"
   ]
  },
  {
   "cell_type": "code",
   "execution_count": 41,
   "metadata": {},
   "outputs": [
    {
     "data": {
      "text/plain": [
       "PassengerId      0\n",
       "Survived         0\n",
       "Pclass           0\n",
       "Name             0\n",
       "Sex              0\n",
       "Age              0\n",
       "SibSp            0\n",
       "Parch            0\n",
       "Ticket           0\n",
       "Fare             0\n",
       "Cabin          687\n",
       "Embarked         0\n",
       "AgeGroup         0\n",
       "FamilySize       0\n",
       "dtype: int64"
      ]
     },
     "execution_count": 41,
     "metadata": {},
     "output_type": "execute_result"
    }
   ],
   "source": [
    "# d_train.describe()\n",
    "# d_train.shape # 891 rows\n",
    "# d_train.info()\n",
    "# d_test.info()\n",
    "# d_train.isnull().sum()  # high null counts for Age and Cabin"
   ]
  },
  {
   "cell_type": "code",
   "execution_count": 48,
   "metadata": {},
   "outputs": [],
   "source": [
    "d_train.PassengerId = d_train.PassengerId.astype('category')\n",
    "d_train.Survived = d_train.Survived.astype('category')\n",
    "d_train.Pclass = d_train.Pclass.astype('category')\n",
    "d_train.Sex = d_train.Sex.astype('category')\n",
    "\n",
    "d_test.PassengerId = d_test.PassengerId.astype('category')\n",
    "d_test.Pclass = d_test.Pclass.astype('category')\n",
    "d_test.Sex = d_test.Sex.astype('category')\n",
    "\n",
    "# Categorize Age\n",
    "age_bin = [0, 12, 17, 60, np.inf]  # Age group boundaries\n",
    "age_bin_lbl = [0, 1, 2, 3] #['child', 'teenager', 'adult', 'elder']  # Age group labels\n",
    "d_train['AgeGroup'] = pd.cut(d_train.Age, age_bin, labels=age_bin_lbl)\n",
    "d_test['AgeGroup'] = pd.cut(d_test.Age, age_bin, labels=age_bin_lbl)"
   ]
  },
  {
   "cell_type": "code",
   "execution_count": 43,
   "metadata": {},
   "outputs": [
    {
     "data": {
      "text/plain": [
       "<matplotlib.figure.Figure at 0x2231c1eea58>"
      ]
     },
     "metadata": {},
     "output_type": "display_data"
    },
    {
     "data": {
      "image/png": "[encoded data removed]",
      "text/plain": [
       "<matplotlib.figure.Figure at 0x2231c40dd68>"
      ]
     },
     "metadata": {},
     "output_type": "display_data"
    },
    {
     "data": {
      "image/png": "[encoded data removed]",
      "text/plain": [
       "<matplotlib.figure.Figure at 0x2231d3a4ba8>"
      ]
     },
     "metadata": {},
     "output_type": "display_data"
    }
   ],
   "source": [
    "plt.clf()\n",
    "\n",
    "d_subset = d_train.iloc[:, [1,2,6,7]]\n",
    "sns.pairplot(d_subset, hue='Survived', size=2.5);\n",
    "\n",
    "# sns.distplot(d_train.Age.dropna())\n",
    "\n",
    "# g = sns.FacetGrid(d_train, row='Survived', col='Sex')\n",
    "# g.map(sns.distplot, 'Age')\n",
    "\n",
    "# sns.jointplot(data=d_train, x='Age', y='Fare', kind='reg')\n",
    "\n",
    "# Survival heatmap based on age group and sex\n",
    "# pivt = d_train.pivot_table(index='AgeGroup', columns='Sex', values='Survived', aggfunc=np.sum)\n",
    "# sns.heatmap(pivt, annot=True, fmt='.1f')\n",
    "\n",
    "# Correlation heatmap\n",
    "# sns.heatmap(d_train.corr(), annot=True, fmt='.2f')\n",
    "\n",
    "def bar_chart(feature):\n",
    "    survived = d_train[d_train['Survived']==1][feature].value_counts()\n",
    "    dead = d_train[d_train['Survived']==0][feature].value_counts()\n",
    "    df = pd.DataFrame([survived,dead])\n",
    "    df.index = ['Survived', 'Dead']\n",
    "    df.plot(kind='bar', stacked=True,figsize=(10,5))\n",
    "\n",
    "bar_chart('Sex')  \n",
    "    \n",
    "plt.show()\n"
   ]
  },
  {
   "cell_type": "markdown",
   "metadata": {},
   "source": [
    "# 3. Feature Engineering"
   ]
  },
  {
   "cell_type": "code",
   "execution_count": 73,
   "metadata": {},
   "outputs": [
    {
     "data": {
      "image/png": "[encoded data removed]",
      "text/plain": [
       "<matplotlib.figure.Figure at 0x2231ce03550>"
      ]
     },
     "metadata": {},
     "output_type": "display_data"
    }
   ],
   "source": [
    "# Replace Age missing value with median of the gender\n",
    "d_train['Age'].fillna(d_train.groupby('Sex')['Age'].transform('median'), inplace=True)\n",
    "d_test['Age'].fillna(d_test.groupby('Sex')['Age'].transform('median'), inplace=True)\n",
    "# Note: recalculate age groups after fillna\n",
    "\n",
    "sns.kdeplot(d_train[d_train['Survived']==0]['Age'], shade=True, label='Dead')\n",
    "sns.kdeplot(d_train[d_train['Survived']==1]['Age'], shade=True, label='Survived')\n",
    "plt.show()\n"
   ]
  },
  {
   "cell_type": "code",
   "execution_count": 74,
   "metadata": {},
   "outputs": [],
   "source": [
    "# Categorize Age\n",
    "age_bin = [0, 12, 17, 60, np.inf]  # Age group boundaries\n",
    "age_bin_lbl = [0, 1, 2, 3] #['child', 'teenager', 'adult', 'elder']  # Age group labels\n",
    "d_train['AgeGroup'] = pd.cut(d_train.Age, age_bin, labels=age_bin_lbl)\n",
    "d_test['AgeGroup'] = pd.cut(d_test.Age, age_bin, labels=age_bin_lbl)"
   ]
  },
  {
   "cell_type": "code",
   "execution_count": 75,
   "metadata": {},
   "outputs": [
    {
     "data": {
      "image/png": "[encoded data removed]",
      "text/plain": [
       "<matplotlib.figure.Figure at 0x2231d652a90>"
      ]
     },
     "metadata": {},
     "output_type": "display_data"
    }
   ],
   "source": [
    "count_embarked_pcls1 = d_train[d_train['Pclass']==1]['Embarked'].value_counts()\n",
    "count_embarked_pcls2 = d_train[d_train['Pclass']==2]['Embarked'].value_counts()\n",
    "count_embarked_pcls3 = d_train[d_train['Pclass']==3]['Embarked'].value_counts()\n",
    "df = pd.DataFrame([count_embarked_pcls1,count_embarked_pcls2,count_embarked_pcls3])\n",
    "df.index = ['1st Class','2nd Class','3rd Class']\n",
    "df.plot(kind='bar', stacked=True, figsize=(10,5))\n",
    "plt.show()\n",
    "\n",
    "# Fill in na for Embarkation with the majority value S\n",
    "d_train['Embarked'].fillna('S', inplace=True)\n",
    "# d_train['Embarked'].fillna('S', inplace=True)"
   ]
  },
  {
   "cell_type": "code",
   "execution_count": 76,
   "metadata": {},
   "outputs": [],
   "source": [
    "# d_test[d_test['Fare'].isnull()].head()\n",
    "\n",
    "# Fill in na for Fare based on the mean of Pclass\n",
    "d_test['Fare'] =d_test.groupby('Pclass')['Fare'].transform(lambda x: x.fillna(x.mean()))"
   ]
  },
  {
   "cell_type": "code",
   "execution_count": 77,
   "metadata": {},
   "outputs": [
    {
     "data": {
      "image/png": "[encoded data removed]",
      "text/plain": [
       "<matplotlib.figure.Figure at 0x2231cf62a20>"
      ]
     },
     "metadata": {},
     "output_type": "display_data"
    }
   ],
   "source": [
    "# Combine sibling and parent/child/spouse/sibling in FamilySize\n",
    "d_train['FamilySize'] = d_train['SibSp'] + d_train['Parch'] + 1\n",
    "d_test['FamilySize'] = d_test['SibSp'] + d_test['Parch'] + 1\n",
    "\n",
    "sns.kdeplot(d_train[d_train['Survived']==0]['FamilySize'], shade=True, label='Dead')\n",
    "sns.kdeplot(d_train[d_train['Survived']==1]['FamilySize'], shade=True, label='Survived')\n",
    "plt.show()"
   ]
  },
  {
   "cell_type": "code",
   "execution_count": 78,
   "metadata": {},
   "outputs": [],
   "source": [
    "# Prepare X and Y\n",
    "\n",
    "df_train = d_train.copy()\n",
    "\n",
    "df_train = df_train.drop(['PassengerId','Name','SibSp','Parch','Ticket','Cabin', 'Age'], axis=1)\n",
    "map_sex = {'female':1,'male':0}\n",
    "df_train['Sex'] = df_train['Sex'].map(map_sex)\n",
    "\n",
    "#df_train['Embarked'].drop_duplicates()\n",
    "map_embark = {'C':0,'Q':1,'S':2}\n",
    "df_train['Embarked'] = df_train['Embarked'].map(map_embark)\n",
    "\n",
    "x_train = df_train.iloc[:,1:]\n",
    "y_train = df_train.iloc[:,0]\n",
    "\n",
    "# Split into test/train\n",
    "# from sklearn.model_selection import train_test_split\n",
    "# x_train, x_traintest, y_train, y_traintest = train_test_split(x_train, y_train, test_size=0.3, random_state=40)"
   ]
  },
  {
   "cell_type": "code",
   "execution_count": 79,
   "metadata": {},
   "outputs": [],
   "source": [
    "# Prepare competition test data\n",
    "\n",
    "x_test = d_test.drop(['PassengerId','Name','SibSp','Parch','Ticket','Cabin', 'Age'], axis=1)\n",
    "map_sex = {'female':1,'male':0}\n",
    "x_test['Sex'] = x_test['Sex'].map(map_sex)\n",
    "\n",
    "#df_train['Embarked'].drop_duplicates()\n",
    "map_embark = {'C':0,'Q':1,'S':2}\n",
    "x_test['Embarked'] = x_test['Embarked'].map(map_embark)\n",
    "\n",
    "# x_test['PassengerId'] = x_test['PassengerId'].astype('category')\n",
    "x_test['Pclass'] = x_test['Pclass'].astype('category')\n",
    "x_test['Sex'] = x_test['Sex'].astype('category')\n"
   ]
  },
  {
   "cell_type": "code",
   "execution_count": 80,
   "metadata": {},
   "outputs": [
    {
     "data": {
      "text/plain": [
       "Pclass        0\n",
       "Sex           0\n",
       "Fare          0\n",
       "Embarked      0\n",
       "AgeGroup      0\n",
       "FamilySize    0\n",
       "dtype: int64"
      ]
     },
     "execution_count": 80,
     "metadata": {},
     "output_type": "execute_result"
    }
   ],
   "source": [
    "x_train.isnull().sum()"
   ]
  },
  {
   "cell_type": "code",
   "execution_count": 81,
   "metadata": {},
   "outputs": [],
   "source": [
    "# Perform feature standardization\n",
    "from sklearn import preprocessing\n",
    "\n",
    "# x_train['Fare'] = preprocessing.scale(x_train['Fare'])\n",
    "# x_train['FamilySize'] = preprocessing.scale(x_train['FamilySize'])\n",
    "# x_traintest['Fare'] = preprocessing.scale(x_traintest['Fare'])\n",
    "# x_traintest['FamilySize'] = preprocessing.scale(x_traintest['FamilySize'])\n",
    "\n",
    "\n",
    "x_train['Pclass'] = x_train['Pclass'].astype('category')\n",
    "x_train['Sex'] = x_train['Sex'].astype('category')\n",
    "x_train['Embarked'] = x_train['Embarked'].astype('category')\n",
    "x_train['AgeGroup'] = x_train['AgeGroup'].astype('category')\n",
    "# x_traintest['Pclass'] = x_traintest['Pclass'].astype('category')\n",
    "# x_traintest['Sex'] = x_traintest['Sex'].astype('category')\n",
    "# x_traintest['Embarked'] = x_traintest['Embarked'].astype('category')\n",
    "# x_traintest['AgeGroup'] = x_traintest['AgeGroup'].astype('category')\n"
   ]
  },
  {
   "cell_type": "markdown",
   "metadata": {},
   "source": [
    "# 4. Model Training"
   ]
  },
  {
   "cell_type": "code",
   "execution_count": 111,
   "metadata": {},
   "outputs": [
    {
     "data": {
      "text/plain": [
       "GridSearchCV(cv=10, error_score='raise',\n",
       "       estimator=SVC(C=1.0, cache_size=200, class_weight=None, coef0=0.0,\n",
       "  decision_function_shape='ovr', degree=3, gamma='auto', kernel='rbf',\n",
       "  max_iter=-1, probability=False, random_state=None, shrinking=True,\n",
       "  tol=0.001, verbose=False),\n",
       "       fit_params=None, iid=True, n_jobs=5,\n",
       "       param_grid={'C': array([1.00000e-02, 7.19686e-02, 5.17947e-01, 3.72759e+00, 2.68270e+01,\n",
       "       1.93070e+02, 1.38950e+03, 1.00000e+04, 7.19686e+04, 5.17947e+05,\n",
       "       3.72759e+06, 2.68270e+07, 1.93070e+08, 1.38950e+09, 1.00000e+10]), 'gamma': array([1.00000e-10, 7.19686e-10, 5.17947e-09, 3.72759e-08, 2.68270e-07,\n",
       "       1.93070e-06, 1.38950e-05, 1.00000e-04, 7.19686e-04, 5.17947e-03,\n",
       "       3.72759e-02, 2.68270e-01, 1.93070e+00, 1.38950e+01, 1.00000e+02])},\n",
       "       pre_dispatch='2*n_jobs', refit=True, return_train_score='warn',\n",
       "       scoring=None, verbose=0)"
      ]
     },
     "execution_count": 111,
     "metadata": {},
     "output_type": "execute_result"
    }
   ],
   "source": [
    "# Find best parameters for SVC using grid search cv\n",
    "\n",
    "from sklearn import model_selection\n",
    "\n",
    "# Choose a range for C and gamma params\n",
    "c_range = np.logspace(-2, 10, 15)\n",
    "gamma_range = np.logspace(-10, 2, 15)\n",
    "grid_svc = GridSearchCV(SVC(), param_grid = dict(C=c_range, gamma=gamma_range), cv = 10, n_jobs=5)\n",
    "grid_svc.fit(x_train, y_train)\n",
    "\n",
    "print(\"The best parameters are %s with a score of %0.2f\"\n",
    "      % (grid.best_params_, grid.best_score_))"
   ]
  },
  {
   "cell_type": "code",
   "execution_count": 82,
   "metadata": {},
   "outputs": [
    {
     "data": {
      "text/plain": [
       "[<matplotlib.lines.Line2D at 0x2231cb08c88>]"
      ]
     },
     "execution_count": 82,
     "metadata": {},
     "output_type": "execute_result"
    },
    {
     "data": {
      "image/png": "[encoded data removed]",
      "text/plain": [
       "<matplotlib.figure.Figure at 0x2231ca5af60>"
      ]
     },
     "metadata": {},
     "output_type": "display_data"
    }
   ],
   "source": [
    "# Draw validation curve for svc using optimal parameters found above\n",
    "from sklearn.model_selection import validation_curve\n",
    "from sklearn import svm\n",
    "\n",
    "param_range = np.linspace(.01, 1.0)\n",
    "\n",
    "train_scores, test_scores = validation_curve(svm.SVC(C=1), \n",
    "                                             x_train, y_train, \n",
    "                                             param_name=\"gamma\", \n",
    "                                             param_range=param_range, \n",
    "                                             cv=10, \n",
    "                                             scoring=\"accuracy\", \n",
    "                                             n_jobs=1)\n",
    "\n",
    "fig, ax = plt.subplots()\n",
    "ax.plot(param_range, np.mean(train_scores, axis=1), color=\"darkorange\")\n",
    "ax.plot(param_range, np.mean(test_scores, axis=1), color=\"navy\")"
   ]
  },
  {
   "cell_type": "code",
   "execution_count": 39,
   "metadata": {},
   "outputs": [
    {
     "data": {
      "text/plain": [
       "[<matplotlib.lines.Line2D at 0x2231c256b70>]"
      ]
     },
     "execution_count": 39,
     "metadata": {},
     "output_type": "execute_result"
    },
    {
     "data": {
      "image/png": "[encoded data removed]",
      "text/plain": [
       "<matplotlib.figure.Figure at 0x2231c1eb128>"
      ]
     },
     "metadata": {},
     "output_type": "display_data"
    }
   ],
   "source": [
    "from sklearn import linear_model\n",
    "from sklearn.svm import SVC\n",
    "from sklearn.model_selection import learning_curve\n",
    "\n",
    "\n",
    "# Plot learning curve for a few estimators and continue with the best one\n",
    "# Compare logistic regression and svm\n",
    "\n",
    "train_size, train_scores, test_scores = learning_curve(linear_model.LogisticRegressionCV(),\n",
    "                                                      x_traintest, y_traintest,\n",
    "                                                      train_sizes=np.linspace(.1, 1.0),\n",
    "                                                      cv = 10,\n",
    "                                                      scoring = 'accuracy')\n",
    "\n",
    "# train_size_svc, train_scores_svc, test_scores_svc = learning_curve(SVC(C=1,gamma=.1),\n",
    "#                                                       x_train, y_train,\n",
    "#                                                       train_sizes=np.linspace(.1, 1.0),\n",
    "#                                                       cv = 10,\n",
    "#                                                       scoring = 'accuracy')\n",
    "\n",
    "fig, ax = plt.subplots()\n",
    "ax.plot(np.linspace(.1, 1.0), np.mean(train_scores, axis=1), color=\"darkorange\")\n",
    "ax.plot(np.linspace(.1, 1.0), np.mean(test_scores, axis=1), color=\"navy\")\n",
    "\n",
    "# fig, ax = plt.subplots()\n",
    "# ax.plot(np.linspace(.1, 1.0), np.mean(train_scores_svc, axis=1), color=\"darkorange\")\n",
    "# ax.plot(np.linspace(.1, 1.0), np.mean(test_scores_svc, axis=1), color=\"navy\")"
   ]
  },
  {
   "cell_type": "code",
   "execution_count": 85,
   "metadata": {},
   "outputs": [
    {
     "data": {
      "text/html": [
       "<div>\n",
       "<style scoped>\n",
       "    .dataframe tbody tr th:only-of-type {\n",
       "        vertical-align: middle;\n",
       "    }\n",
       "\n",
       "    .dataframe tbody tr th {\n",
       "        vertical-align: top;\n",
       "    }\n",
       "\n",
       "    .dataframe thead th {\n",
       "        text-align: right;\n",
       "    }\n",
       "</style>\n",
       "<table border=\"1\" class=\"dataframe\">\n",
       "  <thead>\n",
       "    <tr style=\"text-align: right;\">\n",
       "      <th></th>\n",
       "      <th>PassengerId</th>\n",
       "      <th>Survived</th>\n",
       "    </tr>\n",
       "  </thead>\n",
       "  <tbody>\n",
       "    <tr>\n",
       "      <th>0</th>\n",
       "      <td>892</td>\n",
       "      <td>0</td>\n",
       "    </tr>\n",
       "    <tr>\n",
       "      <th>1</th>\n",
       "      <td>893</td>\n",
       "      <td>1</td>\n",
       "    </tr>\n",
       "    <tr>\n",
       "      <th>2</th>\n",
       "      <td>894</td>\n",
       "      <td>0</td>\n",
       "    </tr>\n",
       "    <tr>\n",
       "      <th>3</th>\n",
       "      <td>895</td>\n",
       "      <td>0</td>\n",
       "    </tr>\n",
       "    <tr>\n",
       "      <th>4</th>\n",
       "      <td>896</td>\n",
       "      <td>1</td>\n",
       "    </tr>\n",
       "  </tbody>\n",
       "</table>\n",
       "</div>"
      ],
      "text/plain": [
       "  PassengerId  Survived\n",
       "0         892         0\n",
       "1         893         1\n",
       "2         894         0\n",
       "3         895         0\n",
       "4         896         1"
      ]
     },
     "execution_count": 85,
     "metadata": {},
     "output_type": "execute_result"
    }
   ],
   "source": [
    "from sklearn.svm import SVC\n",
    "from sklearn.metrics import mean_squared_error\n",
    "import csv\n",
    "\n",
    "# Train an svm(rbf) model\n",
    "\n",
    "model_svc = SVC(C=1, gamma=.1, max_iter = 1000)\n",
    "\n",
    "model_svc.fit(x_train, y_train)\n",
    "\n",
    "# y_traintest_pred = model_svc.predict(x_traintest)\n",
    "# print(\"Mean squared error: %.2f\" % mean_squared_error(y_traintest, y_traintest_pred))\n",
    "\n",
    "# Predict the competition test set and export results\n",
    "\n",
    "y_test = model_svc.predict(x_test)\n",
    "\n",
    "result = pd.concat([d_test.iloc[:,0], pd.Series(y_test[:], name='Survived')], axis = 1)\n",
    "\n",
    "result.to_csv(path_or_buf = 'Data/result.csv', index=False)\n",
    "\n",
    "result.head()\n"
   ]
  },
  {
   "cell_type": "code",
   "execution_count": 37,
   "metadata": {},
   "outputs": [
    {
     "name": "stdout",
     "output_type": "stream",
     "text": [
      "Mean squared error: 0.19\n"
     ]
    }
   ],
   "source": [
    "from sklearn import linear_model\n",
    "import csv\n",
    "\n",
    "# model_logreg = linear_model.LogisticRegressionCV(cv=10, max_iter=1000)\n",
    "# model_logreg.fit(x_train, y_train)\n",
    "\n",
    "# y_traintest_pred = model_logreg.predict(x_traintest)\n",
    "# print(\"Mean squared error: %.2f\" % mean_squared_error(y_traintest, y_traintest_pred))\n",
    "\n",
    "# y_test = model_logreg.predict(x_test)\n",
    "\n",
    "\n",
    "# result = pd.concat([d_test.iloc[:,0], pd.Series(y_test[:], name='Survived')], axis = 1)\n",
    "\n",
    "# result.to_csv(path_or_buf = 'Data/result.csv', index=False)\n",
    "\n",
    "# result.groupby('Survived').size()\n"
   ]
  }
 ],
 "metadata": {
  "kernelspec": {
   "display_name": "Python 3",
   "language": "python",
   "name": "python3"
  },
  "language_info": {
   "codemirror_mode": {
    "name": "ipython",
    "version": 3
   },
   "file_extension": ".py",
   "mimetype": "text/x-python",
   "name": "python",
   "nbconvert_exporter": "python",
   "pygments_lexer": "ipython3",
   "version": "3.6.4"
  }
 },
 "nbformat": 4,
 "nbformat_minor": 2
}
